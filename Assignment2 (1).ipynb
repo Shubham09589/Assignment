{
 "cells": [
  {
   "cell_type": "code",
   "execution_count": 1,
   "id": "35cc71a7-1dd5-4554-a1ca-15629a6c79f4",
   "metadata": {},
   "outputs": [
    {
     "ename": "SyntaxError",
     "evalue": "invalid syntax (2939138316.py, line 1)",
     "output_type": "error",
     "traceback": [
      "\u001b[0;36m  Cell \u001b[0;32mIn[1], line 1\u001b[0;36m\u001b[0m\n\u001b[0;31m    Q1. Write a program to accept percentage from the user and display the grade according to the following criteria\u001b[0m\n\u001b[0m              ^\u001b[0m\n\u001b[0;31mSyntaxError\u001b[0m\u001b[0;31m:\u001b[0m invalid syntax\n"
     ]
    }
   ],
   "source": [
    "Q1. Write a program to accept percentage from the user and display the grade according to the following criteria\n",
    "ans: if marks > 90 :\n",
    "    print(\"A grade\")\n",
    "elif marks >80 and marks <=90 :\n",
    "    print(\"B grade\")\n",
    "elif marks >== 60 and marks <=80 :\n",
    "    print(\"C grade\")\n",
    "elif marks < 60 :\n",
    "    print(\"D grade\")"
   ]
  },
  {
   "cell_type": "code",
   "execution_count": 3,
   "id": "089f830b-b6d8-4ba3-92ce-99543f1aa987",
   "metadata": {},
   "outputs": [
    {
     "ename": "IndentationError",
     "evalue": "unindent does not match any outer indentation level (<tokenize>, line 4)",
     "output_type": "error",
     "traceback": [
      "\u001b[0;36m  File \u001b[0;32m<tokenize>:4\u001b[0;36m\u001b[0m\n\u001b[0;31m    elif costprice > 50000 and costprice <= 100000 :\u001b[0m\n\u001b[0m    ^\u001b[0m\n\u001b[0;31mIndentationError\u001b[0m\u001b[0;31m:\u001b[0m unindent does not match any outer indentation level\n"
     ]
    }
   ],
   "source": [
    "Q2. write a program accept the cost price of a bike nad display the road tax to be paid according to the following criteria \n",
    "ans: if costprice > 100000 :\n",
    "        print(\"Road tax will be paid 15% \")\n",
    "     elif costprice > 50000 and costprice <= 100000 :\n",
    "        print(\"Road tax will be paid 10% \")\n",
    "    elif costprice <= 50000 :\n",
    "        print(\"Road tax will be paid 5% \")"
   ]
  },
  {
   "cell_type": "code",
   "execution_count": 1,
   "id": "b408cf58-e8e9-434b-bacb-3d7e6890116a",
   "metadata": {},
   "outputs": [
    {
     "ename": "SyntaxError",
     "evalue": "invalid syntax (1995166255.py, line 1)",
     "output_type": "error",
     "traceback": [
      "\u001b[0;36m  Cell \u001b[0;32mIn[1], line 1\u001b[0;36m\u001b[0m\n\u001b[0;31m    Q3. Accept any city name from the user and disply monuments of that city.\u001b[0m\n\u001b[0m               ^\u001b[0m\n\u001b[0;31mSyntaxError\u001b[0m\u001b[0;31m:\u001b[0m invalid syntax\n"
     ]
    }
   ],
   "source": [
    "Q3. Accept any city name from the user and disply monuments of that city.\n",
    "ans:City = str(input(\"Enter the city name\"))\n",
    "        if cityname == Delhi :\n",
    "          print(\"Monument Red fort \")\n",
    "        elif cityname == Agra :\n",
    "            print(\"Monuments Taj mahal \")\n",
    "        elif cityname == Jaipur :\n",
    "            print(\"Monuments Jal mahal \")\n",
    "        \n",
    "                 "
   ]
  },
  {
   "cell_type": "code",
   "execution_count": 1,
   "id": "865faeea-3037-4c13-a9aa-43fe1d255ba0",
   "metadata": {},
   "outputs": [
    {
     "ename": "SyntaxError",
     "evalue": "invalid syntax (2486268003.py, line 1)",
     "output_type": "error",
     "traceback": [
      "\u001b[0;36m  Cell \u001b[0;32mIn[1], line 1\u001b[0;36m\u001b[0m\n\u001b[0;31m    Q4.Which keyword is used to create a function?create a function to return a list of odd numbers in the range 1 to 25.\u001b[0m\n\u001b[0m             ^\u001b[0m\n\u001b[0;31mSyntaxError\u001b[0m\u001b[0;31m:\u001b[0m invalid syntax\n"
     ]
    }
   ],
   "source": [
    "Q4.Which keyword is used to create a function?create a function to return a list of odd numbers in the range 1 to 25."
   ]
  },
  {
   "cell_type": "code",
   "execution_count": 3,
   "id": "b70c8bd4-0814-4ea2-bb5a-93d3ac230b02",
   "metadata": {},
   "outputs": [
    {
     "ename": "IndentationError",
     "evalue": "unindent does not match any outer indentation level (<tokenize>, line 5)",
     "output_type": "error",
     "traceback": [
      "\u001b[0;36m  File \u001b[0;32m<tokenize>:5\u001b[0;36m\u001b[0m\n\u001b[0;31m    return i\u001b[0m\n\u001b[0m    ^\u001b[0m\n\u001b[0;31mIndentationError\u001b[0m\u001b[0;31m:\u001b[0m unindent does not match any outer indentation level\n"
     ]
    }
   ],
   "source": [
    "ans:def keword is used to create a function.\n",
    "  def test():\n",
    "        range(1,25)\n",
    "        for i in l :\n",
    "    return i\n",
    "        \n",
    "        \n",
    "        "
   ]
  },
  {
   "cell_type": "code",
   "execution_count": 4,
   "id": "2c4ed330-91d3-44e1-810f-e50f34e2697a",
   "metadata": {},
   "outputs": [
    {
     "ename": "SyntaxError",
     "evalue": "invalid syntax (3518318469.py, line 1)",
     "output_type": "error",
     "traceback": [
      "\u001b[0;36m  Cell \u001b[0;32mIn[4], line 1\u001b[0;36m\u001b[0m\n\u001b[0;31m    Q3. Why *args and **kwargs is used in some funtcions?create a function for each for *args and **kwargs to demnostrate their use.\u001b[0m\n\u001b[0m                      ^\u001b[0m\n\u001b[0;31mSyntaxError\u001b[0m\u001b[0;31m:\u001b[0m invalid syntax\n"
     ]
    }
   ],
   "source": [
    "Q3. Why *args and **kwargs is used in some funtcions?create a function for each for *args and **kwargs to demnostrate their use."
   ]
  },
  {
   "cell_type": "code",
   "execution_count": 6,
   "id": "f3ce4aea-3ab3-4e37-a785-9ed6ed8f1dfe",
   "metadata": {},
   "outputs": [
    {
     "ename": "SyntaxError",
     "evalue": "invalid syntax (870589846.py, line 1)",
     "output_type": "error",
     "traceback": [
      "\u001b[0;36m  Cell \u001b[0;32mIn[6], line 1\u001b[0;36m\u001b[0m\n\u001b[0;31m    ans: *args and **kwargs are used in some function becuase when you are ensure about the number of arguments to pass in the functions.\u001b[0m\n\u001b[0m         ^\u001b[0m\n\u001b[0;31mSyntaxError\u001b[0m\u001b[0;31m:\u001b[0m invalid syntax\n"
     ]
    }
   ],
   "source": [
    "ans: *args and **kwargs are used in some function becuase when you are ensure about the number of arguments to pass in the functions.\n",
    "        def test(*args):\n",
    "        return *args\n",
    "        \n",
    "        def test(**kwargs):\n",
    "            return **kwargs"
   ]
  },
  {
   "cell_type": "code",
   "execution_count": 7,
   "id": "c1867b24-4ac3-4d71-b2cc-8f2abe5670ac",
   "metadata": {},
   "outputs": [
    {
     "ename": "SyntaxError",
     "evalue": "invalid syntax (3726888649.py, line 1)",
     "output_type": "error",
     "traceback": [
      "\u001b[0;36m  Cell \u001b[0;32mIn[7], line 1\u001b[0;36m\u001b[0m\n\u001b[0;31m    Q3. What is an iterator in python? Name the method used to intialise the iterator object and the method used for iteration .Use these methods to print the first five elements of the given list[2,4,6,8,10,12,14,16,18,20].\u001b[0m\n\u001b[0m                   ^\u001b[0m\n\u001b[0;31mSyntaxError\u001b[0m\u001b[0;31m:\u001b[0m invalid syntax\n"
     ]
    }
   ],
   "source": [
    "Q3. What is an iterator in python? Name the method used to intialise the iterator object and the method used for iteration .Use these methods to print the first five elements of the given list[2,4,6,8,10,12,14,16,18,20]. "
   ]
  },
  {
   "cell_type": "code",
   "execution_count": 8,
   "id": "3dc5634e-6099-4d10-91e5-51248761109f",
   "metadata": {},
   "outputs": [
    {
     "ename": "SyntaxError",
     "evalue": "invalid syntax (2373222495.py, line 1)",
     "output_type": "error",
     "traceback": [
      "\u001b[0;36m  Cell \u001b[0;32mIn[8], line 1\u001b[0;36m\u001b[0m\n\u001b[0;31m    ans: An iterator is an object that allows you to iterate over collections of data ,such as lists, tuples,dictionaries and sets.\u001b[0m\n\u001b[0m            ^\u001b[0m\n\u001b[0;31mSyntaxError\u001b[0m\u001b[0;31m:\u001b[0m invalid syntax\n"
     ]
    }
   ],
   "source": [
    "ans: An iterator is an object that allows you to iterate over collections of data ,such as lists, tuples,dictionaries and sets.\n",
    "  a_list = [2,4,6,8,10,12,14,16,18,20]\n",
    "    for value in a_list:\n",
    "        print(vlaue)\n",
    "        print(value + 1)"
   ]
  },
  {
   "cell_type": "code",
   "execution_count": 2,
   "id": "6f1eae5c-e155-4e31-9b58-415f0bd38995",
   "metadata": {},
   "outputs": [
    {
     "ename": "SyntaxError",
     "evalue": "invalid syntax (2807932967.py, line 1)",
     "output_type": "error",
     "traceback": [
      "\u001b[0;36m  Cell \u001b[0;32mIn[2], line 1\u001b[0;36m\u001b[0m\n\u001b[0;31m    Q4. What is genarator function in python?why yeild keyword is used?Give an example of a generator function.\u001b[0m\n\u001b[0m                          ^\u001b[0m\n\u001b[0;31mSyntaxError\u001b[0m\u001b[0;31m:\u001b[0m invalid syntax\n"
     ]
    }
   ],
   "source": [
    "Q4. What is genarator function in python?why yeild keyword is used?Give an example of a generator function."
   ]
  },
  {
   "cell_type": "code",
   "execution_count": 4,
   "id": "237d2d12-92d8-4860-aeba-aaacb2613798",
   "metadata": {},
   "outputs": [
    {
     "ename": "SyntaxError",
     "evalue": "invalid syntax (699803941.py, line 1)",
     "output_type": "error",
     "traceback": [
      "\u001b[0;36m  Cell \u001b[0;32mIn[4], line 1\u001b[0;36m\u001b[0m\n\u001b[0;31m    ans: GeneratTor function provide a powerful alternative they allow you to define an iterative by writing a single function whose execution is not contineous.\u001b[0m\n\u001b[0m                    ^\u001b[0m\n\u001b[0;31mSyntaxError\u001b[0m\u001b[0;31m:\u001b[0m invalid syntax\n"
     ]
    }
   ],
   "source": [
    "ans: GeneratTor function provide a powerful alternative they allow you to define an iterative by writing a single function whose execution is not contineous.\n",
    "The yeild keyword pauses generator function execution and the vlue of the expression following theyeild keyword is returned to the generator callers.\n",
    "e.g. function*gen(){yeild 1; yeild2; ... ...}"
   ]
  },
  {
   "cell_type": "code",
   "execution_count": 5,
   "id": "4ecd2e9e-1690-43fd-9f9d-4be19d70e986",
   "metadata": {},
   "outputs": [
    {
     "ename": "SyntaxError",
     "evalue": "invalid decimal literal (3994519952.py, line 1)",
     "output_type": "error",
     "traceback": [
      "\u001b[0;36m  Cell \u001b[0;32mIn[5], line 1\u001b[0;36m\u001b[0m\n\u001b[0;31m    Q5.Create a generator function for prime numbers less then 1000.use the next() method to print the first 20 prime numbers.\u001b[0m\n\u001b[0m                                                                   ^\u001b[0m\n\u001b[0;31mSyntaxError\u001b[0m\u001b[0;31m:\u001b[0m invalid decimal literal\n"
     ]
    }
   ],
   "source": [
    "Q5.Create a generator function for prime numbers less then 1000.use the next() method to print the first 20 prime numbers."
   ]
  },
  {
   "cell_type": "code",
   "execution_count": 1,
   "id": "fc3b3e4b-c7e5-400f-a041-2400ecf337ed",
   "metadata": {},
   "outputs": [
    {
     "ename": "SyntaxError",
     "evalue": "invalid syntax (1446116635.py, line 1)",
     "output_type": "error",
     "traceback": [
      "\u001b[0;36m  Cell \u001b[0;32mIn[1], line 1\u001b[0;36m\u001b[0m\n\u001b[0;31m    ans:\u001b[0m\n\u001b[0m         ^\u001b[0m\n\u001b[0;31mSyntaxError\u001b[0m\u001b[0;31m:\u001b[0m invalid syntax\n"
     ]
    }
   ],
   "source": [
    "ans: "
   ]
  },
  {
   "cell_type": "code",
   "execution_count": 2,
   "id": "6e39eecb-0d51-406d-8c67-aca701ff42e0",
   "metadata": {},
   "outputs": [
    {
     "ename": "SyntaxError",
     "evalue": "invalid syntax (2843599267.py, line 1)",
     "output_type": "error",
     "traceback": [
      "\u001b[0;36m  Cell \u001b[0;32mIn[2], line 1\u001b[0;36m\u001b[0m\n\u001b[0;31m    Q6. Write a python program to print the first 10 fabonacci numbers using a while loop.\u001b[0m\n\u001b[0m              ^\u001b[0m\n\u001b[0;31mSyntaxError\u001b[0m\u001b[0;31m:\u001b[0m invalid syntax\n"
     ]
    }
   ],
   "source": [
    "Q6. Write a python program to print the first 10 fabonacci numbers using a while loop."
   ]
  },
  {
   "cell_type": "code",
   "execution_count": 3,
   "id": "8c1a95db-a00e-4e08-a6b4-044ed83ab7a8",
   "metadata": {},
   "outputs": [
    {
     "name": "stdin",
     "output_type": "stream",
     "text": [
      "enter the number of element you are looking for  10\n"
     ]
    },
    {
     "ename": "NameError",
     "evalue": "name 'number' is not defined",
     "output_type": "error",
     "traceback": [
      "\u001b[0;31m---------------------------------------------------------------------------\u001b[0m",
      "\u001b[0;31mNameError\u001b[0m                                 Traceback (most recent call last)",
      "Cell \u001b[0;32mIn[3], line 1\u001b[0m\n\u001b[0;32m----> 1\u001b[0m ans: \u001b[43mnumber\u001b[49m \u001b[38;5;241m=\u001b[39m \u001b[38;5;28mint\u001b[39m(\u001b[38;5;28minput\u001b[39m(\u001b[38;5;124m\"\u001b[39m\u001b[38;5;124menter the number of element you are looking for \u001b[39m\u001b[38;5;124m\"\u001b[39m))\n\u001b[1;32m      2\u001b[0m a , b \u001b[38;5;241m=\u001b[39m \u001b[38;5;241m0\u001b[39m , \u001b[38;5;241m1\u001b[39m\n\u001b[1;32m      3\u001b[0m ocunter \u001b[38;5;241m=\u001b[39m \u001b[38;5;241m0\u001b[39m\n",
      "\u001b[0;31mNameError\u001b[0m: name 'number' is not defined"
     ]
    }
   ],
   "source": [
    "ans: number = int(input(\"enter the number of element you are looking for \"))\n",
    "a , b = 0 , 1\n",
    "ocunter = 0\n",
    "while counter < number :\n",
    "    print(a)\n",
    "    c = a+ b\n",
    "    a = b\n",
    "    b = c\n",
    "    counter= counter+ 1"
   ]
  },
  {
   "cell_type": "code",
   "execution_count": 4,
   "id": "89574f5c-6c17-4e54-86e5-051235e1dfef",
   "metadata": {},
   "outputs": [
    {
     "ename": "SyntaxError",
     "evalue": "invalid syntax (2358041761.py, line 1)",
     "output_type": "error",
     "traceback": [
      "\u001b[0;36m  Cell \u001b[0;32mIn[4], line 1\u001b[0;36m\u001b[0m\n\u001b[0;31m    Q7.Write a list comprehension to iterate through the given string: 'pwskills'.\u001b[0m\n\u001b[0m             ^\u001b[0m\n\u001b[0;31mSyntaxError\u001b[0m\u001b[0;31m:\u001b[0m invalid syntax\n"
     ]
    }
   ],
   "source": [
    "Q7.Write a list comprehension to iterate through the given string: 'pwskills'. Expected output['p' ,'w' ,'s' ,'k' ,'i' ,'l' ,'l' ,'s']"
   ]
  },
  {
   "cell_type": "code",
   "execution_count": 5,
   "id": "cc696e40-01a1-4aa1-b589-0fe96d150ad8",
   "metadata": {},
   "outputs": [
    {
     "ename": "NameError",
     "evalue": "name 'l' is not defined",
     "output_type": "error",
     "traceback": [
      "\u001b[0;31m---------------------------------------------------------------------------\u001b[0m",
      "\u001b[0;31mNameError\u001b[0m                                 Traceback (most recent call last)",
      "Cell \u001b[0;32mIn[5], line 1\u001b[0m\n\u001b[0;32m----> 1\u001b[0m ans: \u001b[43ml\u001b[49m \u001b[38;5;241m=\u001b[39m[\u001b[38;5;124m\"\u001b[39m\u001b[38;5;124mpwskills\u001b[39m\u001b[38;5;124m\"\u001b[39m]\n",
      "\u001b[0;31mNameError\u001b[0m: name 'l' is not defined"
     ]
    }
   ],
   "source": [
    "ans: l =[\"pwskills\"]"
   ]
  },
  {
   "cell_type": "code",
   "execution_count": 6,
   "id": "040f58fd-8bb3-4e53-9196-67a870d4279d",
   "metadata": {},
   "outputs": [
    {
     "ename": "NameError",
     "evalue": "name 'l' is not defined",
     "output_type": "error",
     "traceback": [
      "\u001b[0;31m---------------------------------------------------------------------------\u001b[0m",
      "\u001b[0;31mNameError\u001b[0m                                 Traceback (most recent call last)",
      "Cell \u001b[0;32mIn[6], line 1\u001b[0m\n\u001b[0;32m----> 1\u001b[0m [i\u001b[38;5;241m.\u001b[39mextend() \u001b[38;5;28;01mfor\u001b[39;00m i \u001b[38;5;129;01min\u001b[39;00m \u001b[43ml\u001b[49m]\n",
      "\u001b[0;31mNameError\u001b[0m: name 'l' is not defined"
     ]
    }
   ],
   "source": [
    "[i.extend() for i in l]"
   ]
  },
  {
   "cell_type": "code",
   "execution_count": 7,
   "id": "c958eea7-d342-4305-b20f-7c95bdad48f4",
   "metadata": {},
   "outputs": [
    {
     "ename": "SyntaxError",
     "evalue": "invalid syntax (3797124570.py, line 1)",
     "output_type": "error",
     "traceback": [
      "\u001b[0;36m  Cell \u001b[0;32mIn[7], line 1\u001b[0;36m\u001b[0m\n\u001b[0;31m    Q8. Write a python program to check whether a given number is palindrome or not using a while loop.\u001b[0m\n\u001b[0m              ^\u001b[0m\n\u001b[0;31mSyntaxError\u001b[0m\u001b[0;31m:\u001b[0m invalid syntax\n"
     ]
    }
   ],
   "source": [
    "Q8. Write a python program to check whether a given number is palindrome or not using a while loop."
   ]
  },
  {
   "cell_type": "code",
   "execution_count": 1,
   "id": "e39a46db-c71e-41fe-925b-9ac9758170b5",
   "metadata": {},
   "outputs": [
    {
     "ename": "SyntaxError",
     "evalue": "unterminated string literal (detected at line 11) (2415200013.py, line 11)",
     "output_type": "error",
     "traceback": [
      "\u001b[0;36m  Cell \u001b[0;32mIn[1], line 11\u001b[0;36m\u001b[0m\n\u001b[0;31m    print(\"Not a palin\u001b[0m\n\u001b[0m          ^\u001b[0m\n\u001b[0;31mSyntaxError\u001b[0m\u001b[0;31m:\u001b[0m unterminated string literal (detected at line 11)\n"
     ]
    }
   ],
   "source": [
    "ans: num=int(input(\"Enter a number.\"))\n",
    "temp=num\n",
    "rev=0\n",
    "while(num>0):\n",
    "dig=num%10\n",
    "rev=rev*10+digit\n",
    "num=num/10\n",
    "if(temp==rev):\n",
    "    print(\"The number is palindrome\")\n",
    "    else:\n",
    "        print(\"Not a palin"
   ]
  },
  {
   "cell_type": "code",
   "execution_count": 2,
   "id": "aa344fe4-7b8c-4ab3-9afc-5438c2460ee1",
   "metadata": {},
   "outputs": [
    {
     "ename": "SyntaxError",
     "evalue": "invalid syntax (1626122627.py, line 1)",
     "output_type": "error",
     "traceback": [
      "\u001b[0;36m  Cell \u001b[0;32mIn[2], line 1\u001b[0;36m\u001b[0m\n\u001b[0;31m    [i for i in l if%2!=0]\u001b[0m\n\u001b[0m                    ^\u001b[0m\n\u001b[0;31mSyntaxError\u001b[0m\u001b[0;31m:\u001b[0m invalid syntax\n"
     ]
    }
   ],
   "source": []
  },
  {
   "cell_type": "code",
   "execution_count": null,
   "id": "210b173a-2269-4832-8192-2b17246a3431",
   "metadata": {},
   "outputs": [],
   "source": []
  }
 ],
 "metadata": {
  "kernelspec": {
   "display_name": "Python 3 (ipykernel)",
   "language": "python",
   "name": "python3"
  },
  "language_info": {
   "codemirror_mode": {
    "name": "ipython",
    "version": 3
   },
   "file_extension": ".py",
   "mimetype": "text/x-python",
   "name": "python",
   "nbconvert_exporter": "python",
   "pygments_lexer": "ipython3",
   "version": "3.10.8"
  }
 },
 "nbformat": 4,
 "nbformat_minor": 5
}
